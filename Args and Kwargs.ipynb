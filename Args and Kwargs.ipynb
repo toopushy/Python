{
 "cells": [
  {
   "cell_type": "code",
   "execution_count": 1,
   "id": "47f7de5b-3333-49e5-9ab7-36534a5ac8eb",
   "metadata": {},
   "outputs": [],
   "source": [
    "def myfunc(a,b):\n",
    "    # reutrns 5% of the sum of a and b\n",
    "    return sum((a,b)) *0.05"
   ]
  },
  {
   "cell_type": "code",
   "execution_count": 2,
   "id": "3aa8f741-848d-40c8-aa8c-197d960808d3",
   "metadata": {},
   "outputs": [
    {
     "data": {
      "text/plain": [
       "5.0"
      ]
     },
     "execution_count": 2,
     "metadata": {},
     "output_type": "execute_result"
    }
   ],
   "source": [
    "myfunc(40,60)"
   ]
  },
  {
   "cell_type": "code",
   "execution_count": 3,
   "id": "104ef0cf-9d74-45b0-8d62-2891e2a2a113",
   "metadata": {},
   "outputs": [],
   "source": [
    "def myfunc(*args):\n",
    "    return sum(args)*0.05"
   ]
  },
  {
   "cell_type": "code",
   "execution_count": 5,
   "id": "f8de5cdd-7b9c-4d41-b746-390dee381a5b",
   "metadata": {},
   "outputs": [
    {
     "data": {
      "text/plain": [
       "19.35"
      ]
     },
     "execution_count": 5,
     "metadata": {},
     "output_type": "execute_result"
    }
   ],
   "source": [
    "myfunc(40,60,99,77,66,45)"
   ]
  },
  {
   "cell_type": "code",
   "execution_count": 9,
   "id": "3adcb616-bdc0-4be6-866b-731e443e57af",
   "metadata": {},
   "outputs": [],
   "source": [
    "def myfunc(*args):\n",
    "    print(args)\n",
    "\n",
    "# use args as the argument even though any other word would work because it is convention"
   ]
  },
  {
   "cell_type": "code",
   "execution_count": 7,
   "id": "e5f33872-41bf-4bb8-bbc1-07ebb7b7f516",
   "metadata": {},
   "outputs": [
    {
     "name": "stdout",
     "output_type": "stream",
     "text": [
      "(40, 60, 99, 77, 66, 45)\n"
     ]
    }
   ],
   "source": [
    "myfunc(40,60,99,77,66,45)"
   ]
  },
  {
   "cell_type": "code",
   "execution_count": 13,
   "id": "c2c24e56-c161-46b3-a5c9-7f19ae1c9d1c",
   "metadata": {},
   "outputs": [],
   "source": [
    "def myfunc(**kwargs):\n",
    "    print(kwargs)\n",
    "    if 'fruit' in kwargs:\n",
    "        print('My fruit of choice is {}'.format(kwargs['fruit']))\n",
    "    else:\n",
    "        print ('I did not find any fruit here')"
   ]
  },
  {
   "cell_type": "code",
   "execution_count": 14,
   "id": "e394abda-de82-414c-b678-a7c2e268613e",
   "metadata": {},
   "outputs": [
    {
     "name": "stdout",
     "output_type": "stream",
     "text": [
      "{'fruit': 'apple', 'veggie': 'peas'}\n",
      "My fruit of choice is apple\n"
     ]
    }
   ],
   "source": [
    "myfunc(fruit='apple',veggie = 'peas')"
   ]
  },
  {
   "cell_type": "code",
   "execution_count": 20,
   "id": "6385df73-4d8b-4e7f-9c55-850e85174d96",
   "metadata": {},
   "outputs": [],
   "source": [
    "def myfunc(*args,**kwargs):\n",
    "    print(args)\n",
    "    print(kwargs)\n",
    "\n",
    "    print('I would like {} {}'.format(args[1],kwargs['food']))"
   ]
  },
  {
   "cell_type": "code",
   "execution_count": 21,
   "id": "3fce994b-27ca-4747-9af5-4e32541841c3",
   "metadata": {},
   "outputs": [
    {
     "name": "stdout",
     "output_type": "stream",
     "text": [
      "(10, 20, 30)\n",
      "{'fruit': 'orange', 'food': 'eggs', 'animal': 'dogs'}\n",
      "I would like 20 eggs\n"
     ]
    }
   ],
   "source": [
    "myfunc(10,20,30,fruit='orange', food = 'eggs', animal = 'dogs')"
   ]
  },
  {
   "cell_type": "code",
   "execution_count": 35,
   "id": "5e5e941a-15fe-4226-8ebe-060e29f63624",
   "metadata": {},
   "outputs": [],
   "source": [
    "out = []"
   ]
  },
  {
   "cell_type": "code",
   "execution_count": 36,
   "id": "88662b82-10f1-448a-90ce-4f8b540d374b",
   "metadata": {},
   "outputs": [
    {
     "data": {
      "text/plain": [
       "[]"
      ]
     },
     "execution_count": 36,
     "metadata": {},
     "output_type": "execute_result"
    }
   ],
   "source": [
    "out"
   ]
  },
  {
   "cell_type": "code",
   "execution_count": null,
   "id": "3516c8c1-af02-4718-8a2d-9facf10f18df",
   "metadata": {},
   "outputs": [],
   "source": []
  }
 ],
 "metadata": {
  "kernelspec": {
   "display_name": "Python 3 (ipykernel)",
   "language": "python",
   "name": "python3"
  },
  "language_info": {
   "codemirror_mode": {
    "name": "ipython",
    "version": 3
   },
   "file_extension": ".py",
   "mimetype": "text/x-python",
   "name": "python",
   "nbconvert_exporter": "python",
   "pygments_lexer": "ipython3",
   "version": "3.12.4"
  }
 },
 "nbformat": 4,
 "nbformat_minor": 5
}
