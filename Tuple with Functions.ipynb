{
 "cells": [
  {
   "cell_type": "code",
   "execution_count": 1,
   "id": "f24a79aa-2006-4497-9576-d3e7f8a14504",
   "metadata": {},
   "outputs": [],
   "source": [
    "stock_prices = [('APPL',200), ('GOOG',400), ('MSFT',100)]"
   ]
  },
  {
   "cell_type": "code",
   "execution_count": 2,
   "id": "c324f3df-b501-418a-834c-bcd318ac44d2",
   "metadata": {},
   "outputs": [
    {
     "name": "stdout",
     "output_type": "stream",
     "text": [
      "('APPL', 200)\n",
      "('GOOG', 400)\n",
      "('MSFT', 100)\n"
     ]
    }
   ],
   "source": [
    "for item in stock_prices:\n",
    "    print(item)"
   ]
  },
  {
   "cell_type": "code",
   "execution_count": 4,
   "id": "21dd13be-f25d-47a1-ad82-e49ba3e5867f",
   "metadata": {},
   "outputs": [
    {
     "name": "stdout",
     "output_type": "stream",
     "text": [
      "220.0\n",
      "440.0\n",
      "110.0\n"
     ]
    }
   ],
   "source": [
    "for ticker,price in stock_prices:\n",
    "    print(price+(0.1*price))"
   ]
  },
  {
   "cell_type": "code",
   "execution_count": 5,
   "id": "c5db3d12-e328-4014-9b38-68b066ad7258",
   "metadata": {},
   "outputs": [],
   "source": [
    "work_hours = [('Abby',100),('Billy',400),('Cassy',800)]"
   ]
  },
  {
   "cell_type": "code",
   "execution_count": 6,
   "id": "55d8cca3-5e33-43d2-a7c9-8dc340c06516",
   "metadata": {},
   "outputs": [],
   "source": [
    "def employee_check(work_hours):\n",
    "\n",
    "    current_max = 0\n",
    "    employee_of_month = ''\n",
    "\n",
    "    for employee,hours in work_hours:\n",
    "        if hours > current_max:\n",
    "            current_max = hours\n",
    "            employee_of_month = employee\n",
    "        else:\n",
    "            pass\n",
    "    \n",
    "    #Return\n",
    "    return (employee_of_month,current_max)"
   ]
  },
  {
   "cell_type": "code",
   "execution_count": 8,
   "id": "ab3c7607-ddd9-4ca8-92a0-52d9e8859a62",
   "metadata": {},
   "outputs": [],
   "source": [
    "result = employee_check(work_hours)"
   ]
  },
  {
   "cell_type": "code",
   "execution_count": 9,
   "id": "827ae8bb-d6e3-4cc2-a082-f3681b462513",
   "metadata": {},
   "outputs": [],
   "source": [
    "name,hours = employee_check(work_hours)"
   ]
  },
  {
   "cell_type": "code",
   "execution_count": 10,
   "id": "ed7c17d1-5b1e-4553-8c66-a9a139eaac08",
   "metadata": {},
   "outputs": [
    {
     "data": {
      "text/plain": [
       "('Cassy', 800)"
      ]
     },
     "execution_count": 10,
     "metadata": {},
     "output_type": "execute_result"
    }
   ],
   "source": [
    "result"
   ]
  },
  {
   "cell_type": "code",
   "execution_count": 11,
   "id": "faa4b57d-18f4-48e3-9853-006aa5e89953",
   "metadata": {},
   "outputs": [
    {
     "data": {
      "text/plain": [
       "'Cassy'"
      ]
     },
     "execution_count": 11,
     "metadata": {},
     "output_type": "execute_result"
    }
   ],
   "source": [
    "name"
   ]
  },
  {
   "cell_type": "code",
   "execution_count": 12,
   "id": "52434446-6904-4757-96aa-34e3b790fc6d",
   "metadata": {},
   "outputs": [
    {
     "data": {
      "text/plain": [
       "800"
      ]
     },
     "execution_count": 12,
     "metadata": {},
     "output_type": "execute_result"
    }
   ],
   "source": [
    "hours"
   ]
  },
  {
   "cell_type": "code",
   "execution_count": null,
   "id": "40628936-b29a-46fa-9704-519b6420c12c",
   "metadata": {},
   "outputs": [],
   "source": []
  }
 ],
 "metadata": {
  "kernelspec": {
   "display_name": "Python 3 (ipykernel)",
   "language": "python",
   "name": "python3"
  },
  "language_info": {
   "codemirror_mode": {
    "name": "ipython",
    "version": 3
   },
   "file_extension": ".py",
   "mimetype": "text/x-python",
   "name": "python",
   "nbconvert_exporter": "python",
   "pygments_lexer": "ipython3",
   "version": "3.12.4"
  }
 },
 "nbformat": 4,
 "nbformat_minor": 5
}
