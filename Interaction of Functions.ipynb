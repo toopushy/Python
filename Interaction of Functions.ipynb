{
 "cells": [
  {
   "cell_type": "code",
   "execution_count": 1,
   "id": "6156697c-e96f-47a8-91aa-092ca21f02d9",
   "metadata": {},
   "outputs": [],
   "source": [
    "example = [1,2,3,4,5,6,7]"
   ]
  },
  {
   "cell_type": "code",
   "execution_count": 2,
   "id": "96901e0d-525b-4930-9951-9fb93475765d",
   "metadata": {},
   "outputs": [],
   "source": [
    "from random import shuffle"
   ]
  },
  {
   "cell_type": "code",
   "execution_count": 5,
   "id": "855a4c1f-8622-4f46-af04-8fb38381632d",
   "metadata": {},
   "outputs": [],
   "source": [
    "result = shuffle(example)"
   ]
  },
  {
   "cell_type": "code",
   "execution_count": 6,
   "id": "786bfe66-213b-4014-8f99-e1a00a0dffab",
   "metadata": {},
   "outputs": [],
   "source": [
    "result # get nothing because shuffling happens in place"
   ]
  },
  {
   "cell_type": "code",
   "execution_count": 7,
   "id": "0141ed77-3144-4add-af21-bfb241d8d2d5",
   "metadata": {},
   "outputs": [],
   "source": [
    "def shuffle_list(mylist):\n",
    "    shuffle(mylist)\n",
    "    return mylist"
   ]
  },
  {
   "cell_type": "code",
   "execution_count": 9,
   "id": "f8061b6d-a98c-484f-8738-0cb80267c933",
   "metadata": {},
   "outputs": [],
   "source": [
    "result = shuffle_list(example)"
   ]
  },
  {
   "cell_type": "code",
   "execution_count": 10,
   "id": "9834e1c9-79ba-48b8-beb7-329d759de45b",
   "metadata": {},
   "outputs": [
    {
     "data": {
      "text/plain": [
       "[3, 7, 6, 5, 2, 1, 4]"
      ]
     },
     "execution_count": 10,
     "metadata": {},
     "output_type": "execute_result"
    }
   ],
   "source": [
    "result"
   ]
  },
  {
   "cell_type": "code",
   "execution_count": 11,
   "id": "600ab3aa-d664-491f-b1b4-f592abfd86fa",
   "metadata": {},
   "outputs": [],
   "source": [
    "mylist = ['','O',' ']"
   ]
  },
  {
   "cell_type": "code",
   "execution_count": 12,
   "id": "f3d09ac4-350f-4ab5-a3c1-e23282e86943",
   "metadata": {},
   "outputs": [
    {
     "data": {
      "text/plain": [
       "['', 'O', ' ']"
      ]
     },
     "execution_count": 12,
     "metadata": {},
     "output_type": "execute_result"
    }
   ],
   "source": [
    "shuffle_list(mylist)"
   ]
  },
  {
   "cell_type": "code",
   "execution_count": 13,
   "id": "f0dd6378-a44e-4b2a-b083-890584fc32f1",
   "metadata": {},
   "outputs": [],
   "source": [
    "def player_guess():\n",
    "\n",
    "    guess=''\n",
    "\n",
    "    while guess not in ['0','1','2']:\n",
    "        guess = input('pick a number: 0, 1, or 2')\n",
    "\n",
    "    return int(guess)"
   ]
  },
  {
   "cell_type": "code",
   "execution_count": 14,
   "id": "1ef7d2bf-5441-4e3b-966e-2be99bc0b20b",
   "metadata": {},
   "outputs": [
    {
     "name": "stdin",
     "output_type": "stream",
     "text": [
      "pick a number: 0, 1, or 2 8\n",
      "pick a number: 0, 1, or 2 1\n"
     ]
    },
    {
     "data": {
      "text/plain": [
       "1"
      ]
     },
     "execution_count": 14,
     "metadata": {},
     "output_type": "execute_result"
    }
   ],
   "source": [
    "player_guess()"
   ]
  },
  {
   "cell_type": "code",
   "execution_count": 15,
   "id": "c33d7a4c-06d0-4f1b-889e-d1e8cef463ac",
   "metadata": {},
   "outputs": [
    {
     "name": "stdin",
     "output_type": "stream",
     "text": [
      "pick a number: 0, 1, or 2 0\n"
     ]
    }
   ],
   "source": [
    "myindex = player_guess()"
   ]
  },
  {
   "cell_type": "code",
   "execution_count": 16,
   "id": "259ace1d-d5eb-47f1-96b6-a6a20553c534",
   "metadata": {},
   "outputs": [
    {
     "data": {
      "text/plain": [
       "0"
      ]
     },
     "execution_count": 16,
     "metadata": {},
     "output_type": "execute_result"
    }
   ],
   "source": [
    "myindex"
   ]
  },
  {
   "cell_type": "code",
   "execution_count": 19,
   "id": "29048886-69f8-4b17-8ad2-4b286745b3e1",
   "metadata": {},
   "outputs": [],
   "source": [
    "def check_guess(mylist,guess):\n",
    "    if mylist[guess] == 'O':\n",
    "        print('Correct!')\n",
    "    else:\n",
    "        print('Wrong guess!')\n",
    "        print(mylist)"
   ]
  },
  {
   "cell_type": "code",
   "execution_count": 21,
   "id": "f3ba1846-3f65-42de-97da-dadacf3949e0",
   "metadata": {},
   "outputs": [
    {
     "name": "stdin",
     "output_type": "stream",
     "text": [
      "pick a number: 0, 1, or 2 8\n",
      "pick a number: 0, 1, or 2 0\n"
     ]
    },
    {
     "name": "stdout",
     "output_type": "stream",
     "text": [
      "Correct!\n"
     ]
    }
   ],
   "source": [
    "#Initial list\n",
    "\n",
    "mylist = [' ','O',' ']\n",
    "\n",
    "#shuffle list\n",
    "\n",
    "mixedup_list = shuffle_list(mylist)\n",
    "\n",
    "#user guess\n",
    "\n",
    "guess = player_guess()\n",
    "\n",
    "#check guess\n",
    "\n",
    "check_guess(mixedup_list,guess)"
   ]
  },
  {
   "cell_type": "code",
   "execution_count": null,
   "id": "321e0f7a-54bc-43c7-8d9b-838a1e8157ad",
   "metadata": {},
   "outputs": [],
   "source": []
  }
 ],
 "metadata": {
  "kernelspec": {
   "display_name": "Python 3 (ipykernel)",
   "language": "python",
   "name": "python3"
  },
  "language_info": {
   "codemirror_mode": {
    "name": "ipython",
    "version": 3
   },
   "file_extension": ".py",
   "mimetype": "text/x-python",
   "name": "python",
   "nbconvert_exporter": "python",
   "pygments_lexer": "ipython3",
   "version": "3.12.4"
  }
 },
 "nbformat": 4,
 "nbformat_minor": 5
}
